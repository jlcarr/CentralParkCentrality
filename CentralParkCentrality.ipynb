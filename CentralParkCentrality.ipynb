{
 "cells": [
  {
   "cell_type": "markdown",
   "id": "dd2da274",
   "metadata": {},
   "source": [
    "# Central Park Centrality\n",
    "While I lived in NYC I remember whenever I'd walk through Central Park I'd find I'd always end up at Bethesda Fountain at some point during my walk.  \n",
    "The famous PageRank represents the odds of landing of a given webpage, after randomly clicking links and a given probably factor of stay at the current page.  \n",
    "This makes me wonder, what happens if we run PageRank and other graph centrality algorithms on the map of paths in Central park? Where does Bethesda fountain rank, and what are the actual central nodes in Central Park?"
   ]
  },
  {
   "cell_type": "code",
   "execution_count": null,
   "id": "1a2e470e",
   "metadata": {},
   "outputs": [],
   "source": [
    "# !pip install -r https://raw.githubusercontent.com/gboeing/osmnx/main/requirements.txt\n",
    "# !pip install osmnx"
   ]
  },
  {
   "cell_type": "markdown",
   "id": "14a69ff2",
   "metadata": {},
   "source": [
    "## Imports"
   ]
  },
  {
   "cell_type": "code",
   "execution_count": null,
   "id": "1b87ec1e",
   "metadata": {},
   "outputs": [],
   "source": [
    "# Graph toolset\n",
    "import networkx as nx  # For graph operations\n",
    "import osmnx as ox  # For downloading and manipulating OpenStreetMap data in NetworkX format\n",
    "\n",
    "import pandas as pd  # For manipulting tables of data\n",
    "import geopandas as gpd  # For spacial operations on tables of data\n",
    "\n",
    "import numpy as np  # For arrays and matrix operations\n",
    "\n",
    "import scipy.sparse  # For sparse arrays\n",
    "import scipy.interpolate"
   ]
  },
  {
   "cell_type": "code",
   "execution_count": null,
   "id": "8a49f0de",
   "metadata": {},
   "outputs": [],
   "source": [
    "# Visualization toolset\n",
    "import matplotlib.pyplot as plt\n",
    "from matplotlib import colormaps\n",
    "from matplotlib.animation import FuncAnimation\n",
    "\n",
    "from IPython.display import HTML\n",
    "\n",
    "%matplotlib inline\n",
    "# %matplotlib notebook\n",
    "#plt.rcParams['figure.figsize'] = [8, 8]"
   ]
  },
  {
   "cell_type": "markdown",
   "id": "9049e27d",
   "metadata": {},
   "source": [
    "## Map Data"
   ]
  },
  {
   "cell_type": "markdown",
   "id": "8d138a53",
   "metadata": {},
   "source": [
    "### Central Park\n",
    "First things first, let's download the graph of Central Park, which we can do by name with the OSMnx API."
   ]
  },
  {
   "cell_type": "code",
   "execution_count": null,
   "id": "9382986b",
   "metadata": {},
   "outputs": [],
   "source": [
    "G = ox.graph.graph_from_place(\"Central Park\", network_type='walk', truncate_by_edge=True)\n",
    "gdf,egdf = ox.utils_graph.graph_to_gdfs(G)\n",
    "fig, ax = ox.plot_graph(G, node_size=1)"
   ]
  },
  {
   "cell_type": "markdown",
   "id": "4de7927c",
   "metadata": {},
   "source": [
    "### Bethesda Fountain\n",
    "We want all nodes of our graph associated with Bethesda Fountain, so let's again use OSMnx's API to find them by name."
   ]
  },
  {
   "cell_type": "code",
   "execution_count": null,
   "id": "2ba76d28",
   "metadata": {},
   "outputs": [],
   "source": [
    "target_gdf = ox.geometries.geometries_from_place(\"Bethesda Fountain\", {'name':'Bethesda Fountain'})\n",
    "for ktype,osmid in target_gdf.index:\n",
    "    print(f\"https://www.openstreetmap.org/{ktype}/{osmid}\")\n",
    "target_gdf"
   ]
  },
  {
   "cell_type": "markdown",
   "id": "160ee38f",
   "metadata": {},
   "source": [
    "Note that since we get a 'way' element_type, we need to find the nodes in the Central Park graph which are closest to point in the Bethesda Fountain way, which can be done as follows:"
   ]
  },
  {
   "cell_type": "code",
   "execution_count": null,
   "id": "728e5ffc",
   "metadata": {},
   "outputs": [],
   "source": [
    "polygon = target_gdf.loc['way']['geometry'].iloc[0]\n",
    "target_nodes = list(set(ox.distance.nearest_nodes(G, *zip(*polygon.exterior.coords))))\n",
    "for node in target_nodes:\n",
    "    print(f\"https://www.openstreetmap.org/node/{node}\")"
   ]
  },
  {
   "cell_type": "code",
   "execution_count": null,
   "id": "eddf42ed",
   "metadata": {},
   "outputs": [],
   "source": [
    "fig, ax = ox.plot_graph(G, show=False, close=False, node_size=1)\n",
    "ax.scatter(gdf['x'][target_nodes], gdf['y'][target_nodes], color='yellow', s=75, edgecolors='black')\n",
    "plt.show()"
   ]
  },
  {
   "cell_type": "markdown",
   "id": "8516ddfe",
   "metadata": {},
   "source": [
    "### Columbus Circle\n",
    "Generally I would start my walks from Columbus Circle, so let's fetch that for a starting point, similar to what we did for Bethesda Fountain."
   ]
  },
  {
   "cell_type": "code",
   "execution_count": null,
   "id": "87cb01f2",
   "metadata": {},
   "outputs": [],
   "source": [
    "start_gdf = ox.geometries.geometries_from_place(\"Columbus Circle\", {'name':'Columbus Circle'})\n",
    "for ktype,osmid in start_gdf.index:\n",
    "    print(f\"https://www.openstreetmap.org/{ktype}/{osmid}\")\n",
    "start_gdf"
   ]
  },
  {
   "cell_type": "markdown",
   "id": "b38cdb93",
   "metadata": {},
   "source": [
    "Columbus Circle isn't actually a part of Central Park itself, so to find the park entrance from Columbus Circle we can get the nearest node to it."
   ]
  },
  {
   "cell_type": "code",
   "execution_count": null,
   "id": "74028819",
   "metadata": {},
   "outputs": [],
   "source": [
    "point = start_gdf.loc['node']['geometry'].iloc[0]\n",
    "start_node = ox.distance.nearest_nodes(G, *zip(*point.coords))[0]\n",
    "start_node_index = gdf.index.get_loc(start_node)\n",
    "print(f\"https://www.openstreetmap.org/node/{start_node}\")"
   ]
  },
  {
   "cell_type": "code",
   "execution_count": null,
   "id": "5a473eb2",
   "metadata": {},
   "outputs": [],
   "source": [
    "fig, ax = ox.plot_graph(G, show=False, close=False, node_size=1)\n",
    "ax.scatter(gdf['x'][start_node], gdf['y'][start_node], color='yellow', s=75, edgecolors='black')\n",
    "plt.show()"
   ]
  },
  {
   "cell_type": "markdown",
   "id": "d5cbd7af",
   "metadata": {},
   "source": [
    "### Removing Dead-Ends\n",
    "Dead-ends can trap a random-walker, but in practice I would just walk across the grass, or avoid an obvious dead end.\n",
    "So let's prune off dead-ends.\n",
    "We can do this in terms of graph connectivity: a subgraph connected to the rest by a solitary edge is a \"dead end\"."
   ]
  },
  {
   "cell_type": "code",
   "execution_count": null,
   "id": "a599a949",
   "metadata": {},
   "outputs": [],
   "source": [
    "# optionally run this cell to remove dead-ends\n",
    "Gcut = ox.utils_graph.get_undirected(G)\n",
    "while len(e := nx.minimum_edge_cut(Gcut)) == 1:\n",
    "    e = e.pop()\n",
    "    Gcut.remove_edge(*e)\n",
    "    for node in e:\n",
    "        if not nx.has_path(Gcut, start_node, node):\n",
    "            Gcut.remove_nodes_from(nx.descendants(Gcut, node))\n",
    "            Gcut.remove_node(node)\n",
    "G = nx.MultiDiGraph(Gcut)\n",
    "gdf,egdf = ox.utils_graph.graph_to_gdfs(G)\n",
    "start_node_index = gdf.index.get_loc(start_node)"
   ]
  },
  {
   "cell_type": "markdown",
   "id": "5b4ba74a",
   "metadata": {},
   "source": [
    "## Centralities\n",
    "NetworkX comes with a variety of centrality measures out-of-the-box. Let's take a look at them.\n",
    "\n",
    "In particular we can see how our target nodes rank up, and graph the edges by mean of the centralities of their head and tail nodes. We can also show the top $n$ nodes."
   ]
  },
  {
   "cell_type": "code",
   "execution_count": null,
   "id": "3eb1b359",
   "metadata": {},
   "outputs": [],
   "source": [
    "def analyze_centrality_measure(G, name, func, show_target_nodes=None, show_top_n=3, plot_interpolated=False):\n",
    "    gdf,egdf = ox.utils_graph.graph_to_gdfs(G)\n",
    "    # Compute the centralities\n",
    "    centralities = func(G)\n",
    "    centralities_series = pd.Series(centralities)\n",
    "    nx.set_node_attributes(G, centralities, name)\n",
    "    \n",
    "    # Report on the target_nodes\n",
    "    if show_target_nodes:\n",
    "        target_ranks = centralities_series.argsort()[target_nodes] \n",
    "        target_percentile_ranks = target_ranks / centralities_series.size\n",
    "        print(f\"Target node percentile ranks by {name}\")\n",
    "        print(target_percentile_ranks)\n",
    "        print()\n",
    "    \n",
    "    # plot the interpolated image\n",
    "    ax = None\n",
    "    if plot_interpolated:\n",
    "        xrange = gdf['x'].max()-gdf['x'].min()\n",
    "        yrange = gdf['y'].max()-gdf['y'].min()\n",
    "        ex = 0.1\n",
    "        bounds = [\n",
    "            gdf['x'].min()-ex*xrange, gdf['x'].max()+ex*xrange,\n",
    "            gdf['y'].min()-ex*yrange, gdf['y'].max()+ex*yrange,\n",
    "        ]\n",
    "        grid_x, grid_y = np.mgrid[bounds[0]:bounds[1]:1000j, bounds[2]:bounds[3]:1000j]\n",
    "        grid = scipy.interpolate.griddata(gdf[['x','y']].to_numpy(), centralities_series.to_numpy(), (grid_x, grid_y), method='linear', fill_value=0.)\n",
    "        ax = plt.imshow(grid.T, extent=bounds, origin='lower', cmap='gnuplot').ax\n",
    "\n",
    "    # plot the network\n",
    "    edge_mean_centralities = {(u,v,k):(centralities_series[u]+centralities_series[v])/2 for u,v,k in egdf.index}\n",
    "    nx.set_edge_attributes(G, edge_mean_centralities, name)\n",
    "    ec = ox.plot.get_edge_colors_by_attr(G, name, cmap=\"inferno\")\n",
    "    c = ox.plot.get_node_colors_by_attr(G, name, cmap=\"inferno\")\n",
    "    fig, ax = ox.plot_graph(G, ax=ax, show=False, close=False, edge_color=ec, node_color=c, node_size=5)\n",
    "\n",
    "    # Show the top 3 nodes\n",
    "    print(f\"Top {show_top_n} nodes by {name}\")\n",
    "    nodes = centralities_series.sort_values(ascending=False).index[:show_top_n]\n",
    "    for i,node in enumerate(nodes):\n",
    "        print(f\"{i+1}: https://www.openstreetmap.org/node/{node}\")\n",
    "    ax.scatter(gdf['x'][nodes], gdf['y'][nodes], s=75, c=range(show_top_n), cmap='Wistia', edgecolors='black')\n",
    "\n",
    "    plt.show()"
   ]
  },
  {
   "cell_type": "markdown",
   "id": "6f1c37aa",
   "metadata": {},
   "source": [
    "### PageRank\n",
    "Represents the probability of remaining at a given node, after randomly taking paths, starting from a random node, and stopping after a random amount of time."
   ]
  },
  {
   "cell_type": "code",
   "execution_count": null,
   "id": "df2b13ea",
   "metadata": {},
   "outputs": [],
   "source": [
    "name = \"pagerank\"\n",
    "func = nx.pagerank\n",
    "analyze_centrality_measure(G, name, func, show_target_nodes=target_nodes)"
   ]
  },
  {
   "cell_type": "markdown",
   "id": "ada39b1a",
   "metadata": {},
   "source": [
    "### Closeness Centrality"
   ]
  },
  {
   "cell_type": "code",
   "execution_count": null,
   "id": "40aa43f7",
   "metadata": {},
   "outputs": [],
   "source": [
    "name = \"closeness_centrality\"\n",
    "func = nx.closeness_centrality\n",
    "analyze_centrality_measure(G, name, func, show_target_nodes=target_nodes)"
   ]
  },
  {
   "cell_type": "markdown",
   "id": "1e1fe8e8",
   "metadata": {},
   "source": [
    "### Betweenness Centrality"
   ]
  },
  {
   "cell_type": "code",
   "execution_count": null,
   "id": "f890755d",
   "metadata": {},
   "outputs": [],
   "source": [
    "name = \"betweenness_centrality\"\n",
    "func = nx.betweenness_centrality\n",
    "analyze_centrality_measure(G, name, func, show_target_nodes=target_nodes)"
   ]
  },
  {
   "cell_type": "markdown",
   "id": "aee931b6",
   "metadata": {},
   "source": [
    "### Current Flow Closeness Centrality"
   ]
  },
  {
   "cell_type": "code",
   "execution_count": null,
   "id": "0b991b3c",
   "metadata": {},
   "outputs": [],
   "source": [
    "name = \"current_flow_closeness_centrality\"\n",
    "func = lambda G: nx.current_flow_closeness_centrality(ox.utils_graph.get_undirected(G))\n",
    "analyze_centrality_measure(G, name, func, show_target_nodes=target_nodes)"
   ]
  },
  {
   "cell_type": "markdown",
   "id": "6e5cb700",
   "metadata": {},
   "source": [
    "### Current Flow Betweenness Centrality"
   ]
  },
  {
   "cell_type": "code",
   "execution_count": null,
   "id": "a9d0b6e4",
   "metadata": {},
   "outputs": [],
   "source": [
    "name = \"current_flow_betweenness_centrality\"\n",
    "func = lambda G: nx.current_flow_betweenness_centrality(ox.utils_graph.get_undirected(G))\n",
    "analyze_centrality_measure(G, name, func, show_target_nodes=target_nodes)"
   ]
  },
  {
   "cell_type": "markdown",
   "id": "99015934",
   "metadata": {},
   "source": [
    "## Random Walk Simulations"
   ]
  },
  {
   "cell_type": "code",
   "execution_count": null,
   "id": "1c3015ba",
   "metadata": {},
   "outputs": [],
   "source": [
    "def draw_walk(G, T, steps, start_node=None, name='animation', fps=60):\n",
    "    gdf,egdf = ox.utils_graph.graph_to_gdfs(G)\n",
    "\n",
    "    fig, ax = plt.subplots(facecolor=\"black\")\n",
    "    ax.set_facecolor('black')\n",
    "\n",
    "    pos = np.ones(T.shape[0]) / T.shape[0]\n",
    "    if start_node is not None:\n",
    "        pos[:] = 0\n",
    "        pos[gdf.index.get_loc(start_node)] = 1\n",
    "\n",
    "    def draw_function(nframe):\n",
    "        # update the data\n",
    "        pos[:] = T.dot(pos)\n",
    "        # draw the graph\n",
    "        ax.clear()\n",
    "        # setup graph data\n",
    "        pos_series = pd.Series(data=pos, index=gdf.index)\n",
    "        nx.set_node_attributes(G, pos_series, \"animation\")\n",
    "        edge_mean_pos = {(u,v,k):(pos_series[u]+pos_series[v])/2 for u,v,k in egdf.index}\n",
    "        nx.set_edge_attributes(G, edge_mean_pos, \"animation\")\n",
    "        #plot\n",
    "        ec = ox.plot.get_edge_colors_by_attr(G, \"animation\", cmap=\"inferno\")\n",
    "        c = ox.plot.get_node_colors_by_attr(G, \"animation\", cmap=\"inferno\")\n",
    "        ox.plot_graph(G, ax=ax, show=False, close=False, bgcolor='black', edge_color=ec, node_color=c, node_size=5)\n",
    "\n",
    "    anim = FuncAnimation(fig, draw_function, frames=steps, repeat=True)\n",
    "    #anim.save(f\"{name}.gif\", fps=fps)\n",
    "    plt.close()\n",
    "    return HTML(anim.to_html5_video())"
   ]
  },
  {
   "cell_type": "code",
   "execution_count": null,
   "id": "8c3d64dd",
   "metadata": {},
   "outputs": [],
   "source": [
    "def analyze_probability_flow(G, T, steps, target_nodes, start_node=None):\n",
    "    gdf,egdf = ox.utils_graph.graph_to_gdfs(G)\n",
    "    target_nodes_indices = [gdf.index.get_loc(node) for node in target_nodes]\n",
    "    # initialize position\n",
    "    pos = np.ones(T.shape[0]) / T.shape[0]\n",
    "    if start_node is not None:\n",
    "        pos[:] = 0\n",
    "        pos[gdf.index.get_loc(start_node)] = 1\n",
    "    P = [pos[target_nodes_indices].sum()]\n",
    "    Pcum = [P[0]]\n",
    "    for i in range(steps):\n",
    "        pos[:] = T.dot(pos)\n",
    "        P.append(pos[target_nodes_indices].sum())\n",
    "        Pcum.append(Pcum[-1] + (1 - Pcum[-1]) * P[-1])\n",
    "    # plot\n",
    "    fig, axs = plt.subplots(2)\n",
    "    #fig.title('Vertically stacked subplots')\n",
    "    axs[0].plot(P)\n",
    "    axs[0].set_title(\"Probability of being at target node\")\n",
    "    axs[0].set_xlabel(\"steps\")\n",
    "    axs[0].set_ylabel(\"probability\")\n",
    "    axs[1].plot(Pcum)\n",
    "    axs[1].set_title(\"Cumulative probability of having visited target node\")\n",
    "    axs[1].set_xlabel(\"steps\")\n",
    "    axs[1].set_ylabel(\"cumulative probability\")\n",
    "    plt.tight_layout()"
   ]
  },
  {
   "cell_type": "markdown",
   "id": "35943990",
   "metadata": {},
   "source": [
    "### Uniform Adjacency"
   ]
  },
  {
   "cell_type": "code",
   "execution_count": null,
   "id": "9bd9e4e1",
   "metadata": {},
   "outputs": [],
   "source": [
    "A = nx.adjacency_matrix(G)\n",
    "# normalize to stochastic transition matrix\n",
    "edge_count = A.sum(axis=1)\n",
    "invD = scipy.sparse.diags(1/edge_count)\n",
    "T = A.dot(invD)"
   ]
  },
  {
   "cell_type": "code",
   "execution_count": null,
   "id": "a7d20ca1",
   "metadata": {},
   "outputs": [],
   "source": [
    "draw_walk(G, T, 60*10, start_node=start_node)"
   ]
  },
  {
   "cell_type": "code",
   "execution_count": null,
   "id": "788994ef",
   "metadata": {},
   "outputs": [],
   "source": [
    "analyze_probability_flow(G, T, 60*10, target_nodes, start_node=start_node)"
   ]
  },
  {
   "cell_type": "markdown",
   "id": "267c1e34",
   "metadata": {},
   "source": [
    "### Directionally Weighted Random Walk"
   ]
  },
  {
   "cell_type": "code",
   "execution_count": null,
   "id": "6c6859bd",
   "metadata": {},
   "outputs": [],
   "source": [
    "outward_bearings = ox.bearing.calculate_bearing(gdf.loc[start_node]['y'], gdf.loc[start_node]['x'], gdf['y'], gdf['x'])"
   ]
  },
  {
   "cell_type": "code",
   "execution_count": null,
   "id": "74ba80ff",
   "metadata": {},
   "outputs": [],
   "source": [
    "def normalized_inner_product_weight(head, tail):\n",
    "    bearing = ox.bearing.calculate_bearing(gdf.loc[head]['y'], gdf.loc[head]['x'], gdf.loc[tail]['y'], gdf.loc[tail]['x'])\n",
    "    return 1+np.cos(np.deg2rad(bearing - outward_bearings[head]))/2+0.5"
   ]
  },
  {
   "cell_type": "code",
   "execution_count": null,
   "id": "13823eef",
   "metadata": {},
   "outputs": [],
   "source": [
    "weight_function = normalized_inner_product_weight"
   ]
  },
  {
   "cell_type": "code",
   "execution_count": null,
   "id": "61a4b8f4",
   "metadata": {},
   "outputs": [],
   "source": [
    "W = scipy.sparse.dok_matrix(A.shape, dtype='float64')\n",
    "for i,node in enumerate(G.nodes()):\n",
    "    for neighbor in G.neighbors(node):\n",
    "        j = gdf.index.get_loc(neighbor)\n",
    "        W[i,j] = weight_function(node, neighbor)\n",
    "W = scipy.sparse.csr_array(W)\n",
    "# normalize to stochastic transition matrix\n",
    "weight_sums = W.sum(axis=1)\n",
    "invD = scipy.sparse.diags(1/weight_sums)\n",
    "T = invD.dot(W).T"
   ]
  },
  {
   "cell_type": "code",
   "execution_count": null,
   "id": "982cb657",
   "metadata": {},
   "outputs": [],
   "source": [
    "draw_walk(G, T, 60*10, start_node=start_node)"
   ]
  },
  {
   "cell_type": "code",
   "execution_count": null,
   "id": "e30304a9",
   "metadata": {},
   "outputs": [],
   "source": [
    "analyze_probability_flow(G, T, 60*10, target_nodes, start_node=start_node)"
   ]
  },
  {
   "cell_type": "markdown",
   "id": "2395b483",
   "metadata": {},
   "source": [
    "## References\n",
    "- https://osmnx.readthedocs.io/en/stable/index.html\n",
    "- https://networkx.org/documentation/stable/reference/algorithms/centrality.html\n",
    "- https://networkx.org/documentation/stable/reference/algorithms/connectivity.html\n",
    "- https://github.com/gboeing/osmnx-examples/blob/main/notebooks/00-osmnx-features-demo.ipynb\n",
    "- https://www.sci.unich.it/~francesc/teaching/network/flowcentrality.html\n",
    "- https://matplotlib.org/stable/api/_as_gen/matplotlib.animation.Animation.html\n",
    "- https://en.wikipedia.org/wiki/Connectivity_(graph_theory)\n",
    "- https://stackoverflow.com/questions/37311651/get-node-list-from-random-walk-in-networkx\n",
    "- https://stackoverflow.com/questions/43646550/how-to-use-an-update-function-to-animate-a-networkx-graph-in-matplotlib-2-0-0\n",
    "- https://stackoverflow.com/questions/31815454/animate-graph-diffusion-with-networkx"
   ]
  },
  {
   "cell_type": "code",
   "execution_count": null,
   "id": "308022b4",
   "metadata": {},
   "outputs": [],
   "source": []
  }
 ],
 "metadata": {
  "kernelspec": {
   "display_name": "Python 3",
   "language": "python",
   "name": "python3"
  },
  "language_info": {
   "codemirror_mode": {
    "name": "ipython",
    "version": 3
   },
   "file_extension": ".py",
   "mimetype": "text/x-python",
   "name": "python",
   "nbconvert_exporter": "python",
   "pygments_lexer": "ipython3",
   "version": "3.11.1"
  }
 },
 "nbformat": 4,
 "nbformat_minor": 5
}
